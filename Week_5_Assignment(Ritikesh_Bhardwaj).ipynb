{
  "nbformat": 4,
  "nbformat_minor": 0,
  "metadata": {
    "colab": {
      "provenance": [],
      "include_colab_link": true
    },
    "kernelspec": {
      "name": "python3",
      "display_name": "Python 3"
    },
    "language_info": {
      "name": "python"
    }
  },
  "cells": [
    {
      "cell_type": "markdown",
      "metadata": {
        "id": "view-in-github",
        "colab_type": "text"
      },
      "source": [
        "<a href=\"https://colab.research.google.com/github/RitikesH-28/Week-5-Assignment/blob/main/Week_5_Assignment(Ritikesh_Bhardwaj).ipynb\" target=\"_parent\"><img src=\"https://colab.research.google.com/assets/colab-badge.svg\" alt=\"Open In Colab\"/></a>"
      ]
    },
    {
      "cell_type": "code",
      "execution_count": null,
      "metadata": {
        "colab": {
          "base_uri": "https://localhost:8080/"
        },
        "id": "IDNVZ9HR632X",
        "outputId": "b6092624-b540-4d5f-aefd-691430fa0aa4"
      },
      "outputs": [
        {
          "output_type": "stream",
          "name": "stdout",
          "text": [
            "\u001b[2K     \u001b[90m━━━━━━━━━━━━━━━━━━━━━━━━━━━━━━━━━━━━━━━━\u001b[0m \u001b[32m60.4/60.4 kB\u001b[0m \u001b[31m2.9 MB/s\u001b[0m eta \u001b[36m0:00:00\u001b[0m\n",
            "\u001b[2K     \u001b[90m━━━━━━━━━━━━━━━━━━━━━━━━━━━━━━━━━━━━━━━\u001b[0m \u001b[32m149.4/149.4 kB\u001b[0m \u001b[31m4.6 MB/s\u001b[0m eta \u001b[36m0:00:00\u001b[0m\n",
            "\u001b[?25h"
          ]
        }
      ],
      "source": [
        "!pip install pathway bokeh --quiet"
      ]
    },
    {
      "cell_type": "code",
      "source": [
        "import numpy as np\n",
        "import pandas as pd\n",
        "import matplotlib.pyplot as plt\n",
        "from datetime import datetime, timedelta\n",
        "import pathway as pw\n",
        "import bokeh.plotting as bk\n",
        "from bokeh.models import HoverTool\n",
        "import panel as pn\n",
        "pn.extension()\n",
        "\n",
        "# Step 1: Load and prepare the dataset\n",
        "df = pd.read_csv('/content/dataset.csv')\n",
        "\n",
        "# Combine date and time into a single datetime column\n",
        "df['Timestamp'] = pd.to_datetime(df['LastUpdatedDate'] + ' ' + df['LastUpdatedTime'],\n",
        "                                  format='%d-%m-%Y %H:%M:%S')\n",
        "\n",
        "# Sort by time and keep only necessary columns\n",
        "df = df.sort_values('Timestamp').reset_index(drop=True)\n",
        "df[['Timestamp', 'Occupancy', 'Capacity']].to_csv(\"parking_stream.csv\", index=False)\n",
        "\n",
        "# Step 2: Define Pathway schema\n",
        "class ParkingSchema(pw.Schema):\n",
        "    Timestamp: str\n",
        "    Occupancy: int\n",
        "    Capacity: int\n",
        "\n",
        "# Load data using Pathway's replay_csv for streaming simulation\n",
        "stream_data = pw.demo.replay_csv(\"parking_stream.csv\", schema=ParkingSchema, input_rate=1000)\n",
        "\n",
        "# Step 3: Add parsed datetime columns\n",
        "fmt = \"%Y-%m-%d %H:%M:%S\"\n",
        "stream_with_time = stream_data.with_columns(\n",
        "    t=stream_data.Timestamp.dt.strptime(fmt),\n",
        "    day=stream_data.Timestamp.dt.strptime(fmt).dt.strftime(\"%Y-%m-%dT00:00:00\")\n",
        ")\n",
        "\n",
        "# Step 4: Apply daily tumbling window and calculate dynamic price\n",
        "daily_window = (\n",
        "    stream_with_time.windowby(\n",
        "        pw.this.t,\n",
        "        instance=pw.this.day,\n",
        "        window=pw.temporal.tumbling(timedelta(days=1)),\n",
        "        behavior=pw.temporal.exactly_once_behavior()\n",
        "    )\n",
        "    .reduce(\n",
        "        t=pw.this._pw_window_end,\n",
        "        occ_max=pw.reducers.max(pw.this.Occupancy),\n",
        "        occ_min=pw.reducers.min(pw.this.Occupancy),\n",
        "        cap=pw.reducers.max(pw.this.Capacity)\n",
        "    )\n",
        "    .with_columns(\n",
        "        price=10 + (pw.this.occ_max - pw.this.occ_min) / pw.this.cap\n",
        "    )\n",
        ")\n",
        "\n",
        "# Step 5: Define attractive plot with hover and styling\n",
        "def price_plotter(source):\n",
        "    fig = bk.figure(\n",
        "        height=450,\n",
        "        width=850,\n",
        "        title=\"🚗 Dynamic Daily Parking Price Trend\",\n",
        "        x_axis_type=\"datetime\",\n",
        "        tools=\"pan,wheel_zoom,box_zoom,reset,save\",\n",
        "        background_fill_color=\"#f0f0f0\",\n",
        "        toolbar_location=\"above\",\n",
        "    )\n",
        "\n",
        "    fig.line(\"t\", \"price\", source=source, line_width=3, color=\"#0072B5\", legend_label=\"Price\")\n",
        "    fig.scatter(\"t\", \"price\", source=source, size=7, color=\"#D81B60\", legend_label=\"Data Point\")\n",
        "\n",
        "    hover = HoverTool(\n",
        "        tooltips=[\n",
        "            (\"Date\", \"@t{%F}\"),\n",
        "            (\"Price\", \"@price{0.00}\")\n",
        "        ],\n",
        "        formatters={\"@t\": \"datetime\"},\n",
        "        mode=\"vline\"\n",
        "    )\n",
        "    fig.add_tools(hover)\n",
        "\n",
        "    fig.xaxis.axis_label = \"Date\"\n",
        "    fig.yaxis.axis_label = \"Dynamic Price (₹)\"\n",
        "    fig.title.text_font_size = \"18pt\"\n",
        "    fig.title.text_color = \"#333\"\n",
        "    fig.legend.location = \"top_left\"\n",
        "    fig.grid.grid_line_alpha = 0.3\n",
        "\n",
        "    return fig\n",
        "\n",
        "# Step 6: Visualize using Pathway + Panel\n",
        "viz = daily_window.plot(price_plotter, sorting_col=\"t\")\n",
        "pn.Column(viz).servable()\n"
      ],
      "metadata": {
        "id": "uN2wj-8z6-wA"
      },
      "execution_count": null,
      "outputs": []
    },
    {
      "cell_type": "code",
      "source": [
        "# Start the Pathway pipeline execution in the background\n",
        "# - This triggers the real-time data stream processing defined above\n",
        "# - %%capture --no-display suppresses output in the notebook interface\n",
        "\n",
        "%%capture --no-display\n",
        "pw.run()"
      ],
      "metadata": {
        "id": "JI2CMAlv900m"
      },
      "execution_count": null,
      "outputs": []
    },
    {
      "cell_type": "code",
      "source": [],
      "metadata": {
        "id": "k3fWzGri9xuZ"
      },
      "execution_count": null,
      "outputs": []
    }
  ]
}